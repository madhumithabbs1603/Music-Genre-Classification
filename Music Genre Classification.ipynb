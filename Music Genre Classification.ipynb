{
 "cells": [
  {
   "cell_type": "markdown",
   "metadata": {},
   "source": [
    "# Music Genre Classification\n",
    "\n",
    "*mbabusha, rachithp,smuthuku*\n",
    "\n",
    "There has been a focussed expansion in the digital music services space over the last decade. Popular music services like Spotify and Pandora offer over 30 million songs in their music library. Music genre classification is essential for the Music industry since it acts as a product(for example Shazam) itself or as a base to generate recommendations to their customers.\n",
    "\n",
    "Our project aims to classify music genres for tracks using structured feature data and audio data. This is an interesting problem to tackle because of the inherently subjective nature of assigning genres to songs. Automatic music genre classification is also challenging because of the retrieval of feature information from audio tracks. Genre classification is a multi class, multi label problem because each song can either belong to a single genre or can be a combination of multiple genres. We wil tackle the multi class problem here."
   ]
  },
  {
   "cell_type": "code",
   "execution_count": 40,
   "metadata": {
    "collapsed": true
   },
   "outputs": [],
   "source": [
    "import pandas as pd\n",
    "import spotipy\n",
    "import scipy.sparse as sc\n",
    "import numpy as np\n",
    "from sklearn.preprocessing import StandardScaler\n",
    "from matplotlib import*\n",
    "import matplotlib.pyplot as plt\n",
    "from matplotlib.cm import register_cmap\n",
    "from scipy import stats\n",
    "from sklearn.decomposition import PCA as sklearnPCA\n",
    "from sklearn.model_selection import GridSearchCV\n",
    "import collections\n",
    "import numpy as np; np.random.seed(0)\n",
    "import seaborn as sns; sns.set()\n",
    "from scipy.stats import mode\n",
    "import math\n",
    "\n",
    "from sklearn.metrics import confusion_matrix"
   ]
  },
  {
   "cell_type": "markdown",
   "metadata": {},
   "source": [
    "##  Data setup\n",
    "We are primarily using Spotify API to scrape data. We first set up an application in Spotify developer API and obtained the `client_id` and `client_secret`. This helps us access the Spotify API. We will be using the python package `Spotipy` which is built exclusively for Spotify (http://spotipy.readthedocs.io/en/latest/).\n",
    "\n",
    "We will also be using the Million song dataset available at https://labrosa.ee.columbia.edu/millionsong/pages/getting-dataset. The final dataset will be a merged from the scraped data from Spotify API and the million song dataset.\n",
    "\n",
    "\n",
    "### Setup for web scraping from Spotify\n",
    "\n",
    "Steps for set up:\n",
    "Set up your own Spotify user account on www.spotify.com by signing in\n",
    "Log into the Spotify Developer website using the user account you just created, and go to your Dashboard page\n",
    "To complete your account set up, you will need to accept the latest Developer Terms of Service\n",
    "Register your application or project and obtain a `client_id` and a `client_secret`\n",
    "Now, will need to install the Spotipy package using the following code in your python terminal:\n",
    "\n",
    "`pip install spotipy`\n",
    "\n",
    "or\n",
    "\n",
    "`easy_install spotipy`\n",
    "\n",
    "\n"
   ]
  },
  {
   "cell_type": "markdown",
   "metadata": {},
   "source": [
    "## Data Understanding and Preparation\n",
    "\n",
    "### 1. Tracks and Genre labels:\n",
    " \n",
    "From the `MSD` repository we extracted a subset of songs that had a genre labeled to them. We used the artist names and song title data as a base to scrape from Spotify. The audio_features and search endpoint of Spotify were used to extract the necessary information.\n",
    "\n",
    "### 2. Timbre features:\n",
    "Timbre gives the quality of a musical note. It describes the sound that distinguishes different types of musical instruments, or voices. It is derived from the shape of a segment’s spectro-temporal surface, independently of pitch and loudness. This aids significantly in distinguishing different instruments and some instruments are used in particular genres significantly.\n",
    "\n",
    "To get this data we used the `MSD` repository that had the 12-length-vector of timbre features on different tracks. We used the average and standard deviations of the 12 dimensions as features that would define the structural aspect of each track.\n",
    "\n",
    "\n",
    "\n",
    "### 3. Audio Features\n",
    "In order to classify genres, we needed features that would help us distinguish songs that belong to a particular genre. Using the track titles and artist names, we scraped the Spotify web API to get the Audio features for each track. We found that we could get the following audio features for every song:\n",
    "\n",
    "    \t`acousticness`\n",
    "    \t`danceability`\n",
    "\t    `duration_ms`\n",
    "    \t`energy`\n",
    "    \t`instrumentalness`\n",
    "\t    `key`\n",
    "    \t`liveness`\n",
    "        `loudness`\n",
    "        `mode`\n",
    "    \t`speechiness`\n",
    "        `tempo`\n",
    "    \t`time_signature`\n",
    "    \t`valence`\n",
    "\n",
    "| Feature | Explanation |\n",
    "| --- | --- | --- |\n",
    "|Acousticness| range [0,1] - This represents the acoustic quality of the track. A 1.0 value indicates high acoustic confidence.|\n",
    "|Danceability|range [0,1]- suggests how appropriate a song would be for dancing based on inherent components like tempo,beat strength etc| \n",
    "|Duration_ms| This represents the track duration in milliseconds|\n",
    "|Energy|range [0,1]- This represents the intensity of a particular track. Several perceptual features like dynamic range, perceived loudness, timbre, onset rate, and general entropy contribute to computing energy of the track.|\n",
    "|Instrumentalness|range [0,1]- is high when track contains no vocals i.e it is more of a an instrumental track with lesser vocal components.|\n",
    "|Key|The key or pitch class profile the track is in.|\n",
    "|Liveness|range [0,1] - these help in identifying live tracks by detecting the presence of audiences in the track|\n",
    "|Loudness| The overall average loudness of a particular track expressed in decibels.|\n",
    "|Mode| Melodic content from which the track is derived. A track generally belongs to a major or minor scale|\n",
    "|Speechiness |range [0,1] -this helps in identifying speech components in a track. For example, a rap genre track might have high speechiness value|\n",
    "|Tempo|The overall estimated tempo of a track in beats per minute (BPM).|\n",
    "|Time signature| Number of beats in each bar of the track|\n",
    "|Valence |range [0,1]- this can help in identifying how positive (mood) a soundtrack is. Tracks with high valence sound are considered positive (e.g. happy, cheerful), while tracks with low valence sound are considered negative (e.g. sad, depressed, angry).|\n",
    "\n",
    "   \t \n",
    "\n",
    " \n"
   ]
  },
  {
   "cell_type": "code",
   "execution_count": 4,
   "metadata": {},
   "outputs": [],
   "source": [
    "df_train = pd.read_csv('msd_data.csv', encoding='ISO-8859-1')\n",
    "df_train.head()\n",
    "subset = df_train[['title','artist_name']]\n"
   ]
  },
  {
   "cell_type": "code",
   "execution_count": 81,
   "metadata": {},
   "outputs": [],
   "source": [
    "#Using the spotify api to get feature information for the songs in the MSD data set.\n",
    "from spotipy.oauth2 import SpotifyClientCredentials\n",
    "client_credentials_manager = SpotifyClientCredentials(client_id='bd5308ebcdcd467881bd7342f3aaeeda',\n",
    "                                                      client_secret='20902c7e86a64dc285e0a99be7c499dc')\n",
    "sp = spotipy.Spotify(client_credentials_manager=client_credentials_manager)\n",
    "track_ids=[]\n",
    "\n",
    "for index, row in subset.iterrows():\n",
    "\n",
    "    track= row['title']\n",
    "    artist=row['artist_name']\n",
    "\n",
    "    try:\n",
    "        track_id = sp.search(q='artist:' + artist + ' track:' + track, type='track')\n",
    "        \n",
    "        song=track_id['tracks']['items']\n",
    "        if song:\n",
    "            track_ids.append([track,artist,song[0]['id']])\n",
    "        \n",
    "    except Exception:\n",
    "            continue"
   ]
  },
  {
   "cell_type": "code",
   "execution_count": 17,
   "metadata": {},
   "outputs": [
    {
     "name": "stdout",
     "output_type": "stream",
     "text": [
      "16288\n"
     ]
    }
   ],
   "source": [
    "print(len(track_ids))"
   ]
  },
  {
   "cell_type": "code",
   "execution_count": 77,
   "metadata": {
    "scrolled": true
   },
   "outputs": [
    {
     "name": "stdout",
     "output_type": "stream",
     "text": [
      "35466\n"
     ]
    }
   ],
   "source": [
    "print(len(track_ids))\n",
    "df = pd.DataFrame(track_ids, columns=['track','artist','id'])\n",
    "df.to_csv('track_ids.csv', sep=',')"
   ]
  },
  {
   "cell_type": "code",
   "execution_count": 90,
   "metadata": {
    "collapsed": true
   },
   "outputs": [],
   "source": [
    "features_set=[]\n",
    "ids=df['id'].tolist()\n",
    "for i in range(0,len(track_ids),50): \n",
    "    audio_features= sp.audio_features(ids[i:i+50])\n",
    "    for track in audio_features:\n",
    "        if track is not None:\n",
    "            features_set.append(track)"
   ]
  },
  {
   "cell_type": "code",
   "execution_count": 91,
   "metadata": {
    "collapsed": true
   },
   "outputs": [],
   "source": [
    "feat_df=pd.DataFrame(features_set)\n",
    "feat_df.to_csv('feat_ids.csv', sep=',')"
   ]
  },
  {
   "cell_type": "code",
   "execution_count": 33,
   "metadata": {
    "collapsed": true
   },
   "outputs": [],
   "source": [
    "#Merging files for MSD, and the Spotify features\n",
    "msd = pd.read_csv('msd_data.csv', encoding='ISO-8859-1')\n",
    "feat = pd.read_csv('feat_ids.csv', encoding='ISO-8859-1')\n",
    "track = pd.read_csv('track_ids.csv', encoding='ISO-8859-1')\n",
    "merged=track.join(feat, lsuffix='id', rsuffix='id')\n",
    "with_msd=merged.join(msd, lsuffix='track', rsuffix='title')\n",
    "with_msd.to_csv('full.csv', sep=',')"
   ]
  },
  {
   "cell_type": "markdown",
   "metadata": {},
   "source": [
    "*The Spotify API often times out while processing such a large data set. Hence we had to subset some of the music tracks and re run them. *"
   ]
  },
  {
   "cell_type": "code",
   "execution_count": 34,
   "metadata": {
    "collapsed": true
   },
   "outputs": [],
   "source": [
    "list_tracks=with_msd['track'].tolist()\n",
    "\n",
    "new_set=subset[~subset.title.isin(list_tracks)]\n",
    "indices=new_set.index\n",
    "the_left=subset.ix[indices]"
   ]
  },
  {
   "cell_type": "code",
   "execution_count": 5,
   "metadata": {},
   "outputs": [],
   "source": [
    "import spotipy\n",
    "from spotipy.oauth2 import SpotifyClientCredentials\n",
    "client_credentials_manager = SpotifyClientCredentials(client_id='bd5308ebcdcd467881bd7342f3aaeeda',\n",
    "                                                      client_secret='20902c7e86a64dc285e0a99be7c499dc')\n",
    "sp = spotipy.Spotify(client_credentials_manager=client_credentials_manager)\n",
    "track_sets=[]\n",
    "i=0\n",
    "for index, row in subset.iterrows():\n",
    "    track= row['title']\n",
    "    artist=row['artist_name']\n",
    "    try:\n",
    "        track_id = sp.search(q='artist:' + artist + ' track:' + track, type='track')\n",
    "        \n",
    "        song=track_id['tracks']['items']\n",
    "        if song:\n",
    "            i=i+1\n",
    "            track_sets.append([track,artist,song[0]['id']])\n",
    "        \n",
    "    except Exception:\n",
    "            continue"
   ]
  },
  {
   "cell_type": "code",
   "execution_count": 39,
   "metadata": {},
   "outputs": [
    {
     "name": "stdout",
     "output_type": "stream",
     "text": [
      "21361\n"
     ]
    }
   ],
   "source": [
    "print(len(track_sets))\n",
    "rf = pd.DataFrame(track_sets, columns=['track','artist','id'])\n",
    "rf.to_csv('tracks_left.csv', sep=',')"
   ]
  },
  {
   "cell_type": "code",
   "execution_count": 40,
   "metadata": {
    "collapsed": true
   },
   "outputs": [],
   "source": [
    "features_new=[]\n",
    "idset=rf['id'].tolist()\n",
    "for i in range(0,len(track_sets),50): \n",
    "    audio_features= sp.audio_features(idset[i:i+50])\n",
    "    for track in audio_features:\n",
    "        if track is not None:\n",
    "            features_new.append(track)"
   ]
  },
  {
   "cell_type": "markdown",
   "metadata": {},
   "source": [
    "\n",
    "### Spotify Api Challenges:\n",
    "\n",
    "Spotify has extensive feature information - values derived from spectograms, statistical values, audio features etc for millions of songs. Hence, we wanted to primarily use scraped data from Spotify API only. When we explored the Spotify API for data collection process, we found that even though we were able to extract tracks and its respective audio features, we were not able to extract the genre labels for those tracks. Out of 40K tracks we found genre labels for only 200 of them. This made it computationally expensive for us to extract the genre labels using Spotify and hence decided to use the MSD dataset."
   ]
  },
  {
   "cell_type": "code",
   "execution_count": 8,
   "metadata": {},
   "outputs": [
    {
     "name": "stdout",
     "output_type": "stream",
     "text": [
      "No of tracks extracted: 40572\n",
      "Index(['track', 'artist', 'genre', 'Spotify ID', 'acousticness',\n",
      "       'danceability', 'duration_ms', 'energy', 'instrumentalness', 'keytrack',\n",
      "       'liveness', 'loudnesstrack', 'modetrack', 'speechiness', 'tempotrack',\n",
      "       'time_signaturetrack', 'valence', 'avg_timbre1', 'avg_timbre2',\n",
      "       'avg_timbre3', 'avg_timbre4', 'avg_timbre5', 'avg_timbre6',\n",
      "       'avg_timbre7', 'avg_timbre8', 'avg_timbre9', 'avg_timbre10',\n",
      "       'avg_timbre11', 'avg_timbre12', 'var_timbre1', 'var_timbre2',\n",
      "       'var_timbre3', 'var_timbre4', 'var_timbre5', 'var_timbre6',\n",
      "       'var_timbre7', 'var_timbre8', 'var_timbre9', 'var_timbre10',\n",
      "       'var_timbre11', 'var_timbre12', 'Unnamed: 42'],\n",
      "      dtype='object')\n"
     ]
    }
   ],
   "source": [
    "\n",
    "df_train = pd.read_csv('full_drop.csv',encoding='ISO-8859-1')\n",
    "\n",
    "df_train.head()\n",
    "print(\"No of tracks extracted:\",len(df_train))\n",
    "\n",
    "\n",
    "df_train.drop('MSD_track_id',axis=1, inplace=True)\n",
    "print(df_train.columns)"
   ]
  },
  {
   "cell_type": "markdown",
   "metadata": {},
   "source": [
    "### Final dataset\n",
    "We combined the audio features, timbre features and the respective genre mapping to every song as a single dataset. Based on the number of tracks that we were able to search on the Spotify API, we were able to collect audio data for 6 genres. We have a total of ~30K tracks with audio features and timbre features.\n",
    "\n",
    "### Dataset Preparation(imbalance in dataset):\n",
    "\n",
    "The above dataset that we curated had an inherent imbalance. This is prevalent in most of the music genre datasets. To ensure that this imbalance does not skew our prediction models by a large factor, we dropped a few rows from the genre that has the largest number of tracks: `Classic Pop and Rock`. Thus we only retained 10000 rows (shuffled data) for this genre and performed classification on this dataset.\n",
    "\n"
   ]
  },
  {
   "cell_type": "code",
   "execution_count": 9,
   "metadata": {
    "collapsed": true
   },
   "outputs": [],
   "source": [
    "#df_train.genre.unique()\n",
    "\n",
    "df_rock=df_train[df_train.genre==\"classic pop and rock\"]\n",
    "df_rock = df_rock.sample(frac=1).reset_index(drop=True)#shuffle data \n",
    "df_rock=df_rock[:10000] #selecting only top 10000 tracks\n",
    "\n",
    "df_train = df_train[df_train.genre!=\"classic pop and rock\"]"
   ]
  },
  {
   "cell_type": "code",
   "execution_count": 11,
   "metadata": {},
   "outputs": [
    {
     "data": {
      "text/plain": [
       "36677"
      ]
     },
     "execution_count": 11,
     "metadata": {},
     "output_type": "execute_result"
    }
   ],
   "source": [
    "df_train=pd.concat([df_rock, df_train], ignore_index=True)\n",
    "len(df_train)# final dataset"
   ]
  },
  {
   "cell_type": "markdown",
   "metadata": {},
   "source": [
    "The initial process subsets only the features that are necessary for classifying the genre of the track.Here we observe that we use only the spotify features/audio tags and timbral features extracted from MSD.\n",
    "\n",
    "`features_xdf` contains all the features that is used for classification of genre.\n",
    "We also standardize the data for classification algorithms that uses distance as the similarity measure"
   ]
  },
  {
   "cell_type": "code",
   "execution_count": 46,
   "metadata": {},
   "outputs": [
    {
     "name": "stdout",
     "output_type": "stream",
     "text": [
      "   acousticness  danceability  duration_ms  energy  instrumentalness  \\\n",
      "0        0.3860         0.370       189733   0.806          0.000000   \n",
      "1        0.3640         0.656       198867   0.326          0.000000   \n",
      "2        0.1700         0.541       323467   0.860          0.000478   \n",
      "3        0.6850         0.764       148547   0.615          0.000000   \n",
      "4        0.0986         0.531       218907   0.667          0.000006   \n",
      "\n",
      "   keytrack  liveness  loudnesstrack  modetrack  speechiness      ...       \\\n",
      "0        10    0.0832         -6.294          1       0.0421      ...        \n",
      "1         0    0.2460         -9.630          1       0.0521      ...        \n",
      "2        10    0.0635         -5.191          1       0.0371      ...        \n",
      "3         1    0.2500         -5.850          1       0.0344      ...        \n",
      "4         0    0.0915         -9.721          0       0.0590      ...        \n",
      "\n",
      "   var_timbre3  var_timbre4  var_timbre5  var_timbre6  var_timbre7  \\\n",
      "0   810.057337   590.095570   696.053683   373.799700   412.593817   \n",
      "1  2306.967021  1315.256685   935.517227   797.286309   963.944033   \n",
      "2  1993.120462  1673.618605   639.752968   990.270731   549.631214   \n",
      "3  2734.966900  1655.593221   841.450858   729.998371   465.351179   \n",
      "4  2199.039504  1266.144442   999.046992  1202.002064   856.846616   \n",
      "\n",
      "   var_timbre8  var_timbre9  var_timbre10  var_timbre11  var_timbre12  \n",
      "0   300.388896   360.971684    192.228931    136.644235    331.714131  \n",
      "1   562.944511   752.798915    301.373113    234.463351    362.681541  \n",
      "2   830.039141   394.067906    550.820859    380.618748    224.291373  \n",
      "3   570.340032   521.063807    390.894201    281.592451    250.564058  \n",
      "4   336.401645   228.214306    247.866413    405.619240    301.118652  \n",
      "\n",
      "[5 rows x 37 columns]\n"
     ]
    }
   ],
   "source": [
    "#Subsetting only the required audio features\n",
    "features_x=df_train.loc[:, 'acousticness':'var_timbre12']\n",
    "#standardizing the features so that the scales remain consistent\n",
    "mean = features_x.mean(axis=0)\n",
    "std = features_x.std(axis=0)\n",
    "X_std = (features_x - mean) / std\n",
    "\n",
    "print(features_x.head())"
   ]
  },
  {
   "cell_type": "markdown",
   "metadata": {},
   "source": [
    "**features_y contains the output/labels variable that contains the genre information**"
   ]
  },
  {
   "cell_type": "code",
   "execution_count": 13,
   "metadata": {},
   "outputs": [
    {
     "name": "stdout",
     "output_type": "stream",
     "text": [
      "0    classic pop and rock\n",
      "1    classic pop and rock\n",
      "2    classic pop and rock\n",
      "3    classic pop and rock\n",
      "4    classic pop and rock\n",
      "Name: genre, dtype: object\n"
     ]
    }
   ],
   "source": [
    "features_y=df_train.loc[:,'genre']#label/target variable contains only the genre\n",
    "print(features_y.head())"
   ]
  },
  {
   "cell_type": "code",
   "execution_count": 79,
   "metadata": {
    "scrolled": true
   },
   "outputs": [
    {
     "data": {
      "image/png": "[encoded data removed]",
      "text/plain": [
       "<matplotlib.figure.Figure at 0x18fccbbcdd8>"
      ]
     },
     "metadata": {},
     "output_type": "display_data"
    }
   ],
   "source": [
    "\n",
    "\n",
    "plt.figure(2)\n",
    "features_y.value_counts().plot(kind='bar', color='green')\n",
    "plt.title('Distribution of songs across 6 genres')\n",
    "plt.xlabel('Genres')\n",
    "plt.ylabel('Number of songs')\n",
    "plt.show()"
   ]
  },
  {
   "cell_type": "markdown",
   "metadata": {},
   "source": [
    "This graph suggests that there is still an existing imbalance in this data set. This is because a higher number of songs are produced for a particular genre in comparison to others. Previously, the number of `classic pop and rock` outnumbered the other genres by a huge factor. To reduce this huge difference we subsetted a smaller portion of the `classic pop and rock` songs. Apart from that, we are still using the data with the inherent imbalance because most of the music datasets have this kind of a distribution."
   ]
  },
  {
   "cell_type": "markdown",
   "metadata": {},
   "source": [
    "Label Encoder ensures that it gives numerical values to each of the genres so that it can be used as an input to various classifiers."
   ]
  },
  {
   "cell_type": "code",
   "execution_count": 16,
   "metadata": {},
   "outputs": [
    {
     "data": {
      "text/plain": [
       "False"
      ]
     },
     "execution_count": 16,
     "metadata": {},
     "output_type": "execute_result"
    }
   ],
   "source": [
    "features_x.isnull().values.any()#check for null and nan values\n",
    "#np.where(np.asanyarray(np.isnan(features_x)))[0]# checking for nan"
   ]
  },
  {
   "cell_type": "code",
   "execution_count": 17,
   "metadata": {
    "collapsed": true
   },
   "outputs": [],
   "source": [
    "from sklearn import preprocessing\n",
    "#Label encoder can convert string variables into numerical categorical features\n",
    "le = preprocessing.LabelEncoder()\n",
    "Y=le.fit_transform(features_y)"
   ]
  },
  {
   "cell_type": "code",
   "execution_count": 47,
   "metadata": {
    "collapsed": true
   },
   "outputs": [],
   "source": [
    "from sklearn.model_selection import train_test_split\n",
    "# splitting data into train and test data(75% and 25% split)\n",
    "X_train, X_test,Y_train, Y_test = train_test_split(features_x,features_y, test_size=0.25, random_state=42)\n",
    "X_train_std, X_test_std,Y_train_std, Y_test_std = train_test_split(X_std,Y, test_size=0.25, random_state=42)"
   ]
  },
  {
   "cell_type": "markdown",
   "metadata": {},
   "source": [
    "## KNN\n",
    "\n",
    "Our first attempt to create a genre classification model began with a K- Nearest Neighbors Classifier. We used KNN in cohort with a grid search to get the K hyper parameter value. Using this model, gave us an accuracy rate of 76.11%. \n"
   ]
  },
  {
   "cell_type": "code",
   "execution_count": 78,
   "metadata": {},
   "outputs": [
    {
     "name": "stdout",
     "output_type": "stream",
     "text": [
      "0.811886586696\n"
     ]
    }
   ],
   "source": [
    "from sklearn.model_selection import GridSearchCV\n",
    "from sklearn.neighbors import KNeighborsClassifier\n",
    "#Grid search KNN \n",
    "parameters = {'n_neighbors':[1, 10]}\n",
    "neigh = KNeighborsClassifier()\n",
    "grid_neigh = GridSearchCV(neigh, parameters)\n",
    "grid_neigh.fit(X_train_std, Y_train_std) \n",
    "Y_pred=grid_neigh.predict(X_test_std)\n",
    "accuracy=grid_neigh.score(X_test_std,Y_test_std)\n",
    "print(accuracy)"
   ]
  },
  {
   "cell_type": "code",
   "execution_count": 73,
   "metadata": {},
   "outputs": [
    {
     "data": {
      "image/png": "[encoded data removed]",
      "text/plain": [
       "<matplotlib.figure.Figure at 0x18fcca51518>"
      ]
     },
     "metadata": {},
     "output_type": "display_data"
    }
   ],
   "source": [
    "#confusion matrix\n",
    "plt.figure(num=None, figsize=(8, 8))\n",
    "cm = confusion_matrix((Y_test_std),le.transform(Y_pred), labels=[0,1,2,3,4,5])\n",
    "df_cm = pd.DataFrame(cm, index=list(le.inverse_transform([0,1,2,3,4,5])), columns=list(le.inverse_transform([0,1,2,3,4,5])))\n",
    "ax = sns.heatmap(df_cm,annot = True, cmap=\"Spectral\", fmt=\"d\")\n",
    "ax.set_title('Heatmap of the confusion matrix of the actual labels vs the predicted labels\\n')\n",
    "plt.yticks(rotation=0) \n",
    "\n",
    "plt.show()"
   ]
  },
  {
   "cell_type": "markdown",
   "metadata": {},
   "source": [
    "## Random Forest (Custom)\n",
    "A Random Forest classifier was also used as one of the models to understand the accuracy of the model to predict genres.\n",
    "\n",
    "Random forest works on both bagging and boosting concepts. Bagging selects training samples at random with replacement and boosting selects a subset of features every iteration to build a decision tree.\n",
    "\n",
    "In our model, we consider 20% of features being selected for every iteration of building a tree. Also, this implementation of random forests is built on 100 decision trees.\n"
   ]
  },
  {
   "cell_type": "code",
   "execution_count": 19,
   "metadata": {
    "collapsed": true
   },
   "outputs": [],
   "source": [
    "from random import choices\n",
    "l=[]\n",
    "# to randomly select training samples from data(bagging)\n",
    "for i in range(0,len(X_train)):\n",
    "    l.append(i)\n",
    "t=(choices(l, k=len(X_train)))"
   ]
  },
  {
   "cell_type": "code",
   "execution_count": 20,
   "metadata": {
    "collapsed": true
   },
   "outputs": [],
   "source": [
    "n_samples=int(len(X_train.columns.values)*0.20) #find number of features to sample for every tree (Boosting)"
   ]
  },
  {
   "cell_type": "code",
   "execution_count": 21,
   "metadata": {
    "collapsed": true
   },
   "outputs": [],
   "source": [
    "import random\n",
    "from sklearn.tree import DecisionTreeClassifier\n",
    "list_choice =[]\n",
    "train_columns=[]\n",
    "ypred_train=[]\n",
    "ypred_test=[]\n",
    "#building 100 decision trees to create a random forest\n",
    "for i in range(0,100):\n",
    "    list_choice.append(choices(l, k=len(X_train)))\n",
    "    train_columns.append(random.sample(set(X_train.columns.values), n_samples))\n",
    "    #bagging and boosting steps\n",
    "    R_train = X_train[X_train.columns.intersection(train_columns[i])]\n",
    "    R_train = R_train.iloc[list_choice[i],]\n",
    "   \n",
    "    R_Y_train = Y_train.iloc[list_choice[i],]\n",
    "    R_test = X_test[X_test.columns.intersection(train_columns[i])]\n",
    "    # fitting a decision tree based on features and samples selected for the current iteration\n",
    "    DT=DecisionTreeClassifier(random_state=0)\n",
    "    DT.fit(R_train,R_Y_train)\n",
    "    ypred_train.append(DT.predict(R_train))\n",
    "    ypred_test.append(DT.predict(R_test))\n",
    "    \n",
    "    "
   ]
  },
  {
   "cell_type": "code",
   "execution_count": 22,
   "metadata": {
    "collapsed": true
   },
   "outputs": [],
   "source": [
    "import numpy as np\n",
    "for i in range(len(ypred_test)):\n",
    "    ypred_test[i] =le.transform( ypred_test[i].ravel())# convert back to numerical values\n",
    "\n",
    "for i in range(len(ypred_train)):\n",
    "    ypred_train[i] =le.transform( ypred_train[i].ravel())# convert back to numerical values  \n"
   ]
  },
  {
   "cell_type": "code",
   "execution_count": 23,
   "metadata": {},
   "outputs": [],
   "source": [
    "\n",
    "y_p_train =np.vstack(ypred_train)\n",
    "\n",
    "y_p_test =np.vstack(ypred_test)\n"
   ]
  },
  {
   "cell_type": "code",
   "execution_count": 24,
   "metadata": {
    "collapsed": true
   },
   "outputs": [],
   "source": [
    "# using mode as the statistics value to find the dominant genre \n",
    "y_pred_train= mode(y_p_train)\n",
    "y_pred_train=(y_pred_train[0].tolist()[0])\n",
    "y_pred_test= mode(y_p_test)\n",
    "y_pred_test=(y_pred_test[0].tolist()[0])"
   ]
  },
  {
   "cell_type": "code",
   "execution_count": 25,
   "metadata": {},
   "outputs": [
    {
     "name": "stdout",
     "output_type": "stream",
     "text": [
      "Test Error: 23.719 %\n",
      "Test Accuracy: 76.281 %\n"
     ]
    }
   ],
   "source": [
    "test_error = (len(Y_test)-len([i for i, j in zip(y_pred_test, le.transform(Y_test.tolist())) if i == j]))/len(Y_test)\n",
    "print(\"Test Error:\",round(test_error*100,3),\"%\")\n",
    "print(\"Test Accuracy:\", round((1-test_error)*100,3),\"%\")"
   ]
  },
  {
   "cell_type": "markdown",
   "metadata": {},
   "source": [
    "### Random Forest Confusion Matrix\n",
    "\n",
    "From the confusion matrix, we observe that ‘Jazz and Blues’ have been perfectly classified.\n",
    "The reason why ‘Jazz and Blues’ was classified perfectly could have been because of the fact that it is different in its feature configurations from the other genres . \n",
    "\n",
    "The other genres have a huge overlap with ‘classic pop and rock’. Especially ‘Folk’ and ‘Punk’ have been the two most genres that were misclassified as ‘classic pop and rock’. This is probably because of the overlap in structure, audio features and timbral features of these two genres. Another reason could be that ‘classic pop and rock’ have the highest number of songs in this dataset. Therefore, this imbalance could have led most of the songs to be classified as \n",
    "‘classic pop and rock’.\n",
    "\n"
   ]
  },
  {
   "cell_type": "code",
   "execution_count": 26,
   "metadata": {},
   "outputs": [
    {
     "data": {
      "image/png": "[encoded data removed]",
      "text/plain": [
       "<matplotlib.figure.Figure at 0x18fcce98ac8>"
      ]
     },
     "metadata": {},
     "output_type": "display_data"
    }
   ],
   "source": [
    "plt.figure(num=None, figsize=(8, 8))\n",
    "cm = confusion_matrix(le.transform(Y_test.tolist()),y_pred_test, labels=[0,1,2,3,4,5])\n",
    "df_cm = pd.DataFrame(cm, index=list(le.inverse_transform([0,1,2,3,4,5])), columns=list(le.inverse_transform([0,1,2,3,4,5])))\n",
    "ax = sns.heatmap(df_cm,annot = True, cmap=\"Spectral\", fmt=\"d\")\n",
    "ax.set_title('Heatmap of the confusion matrix of the actual labels vs the predicted labels\\n')\n",
    "plt.yticks(rotation=0) \n",
    "\n",
    "plt.show()"
   ]
  },
  {
   "cell_type": "markdown",
   "metadata": {},
   "source": [
    "## Random Forest (sklearn)\n",
    "To check the performance of the custom random forest, we ran a scikit learn Random Forest model. Our implementation of the Random Forest gives us an accuracy of 76% and the sklearn Random Forest Classifier gives us an accuracy of 81%. Thus we can observe that our implementation has led to almost good accuracy rates as the sklearn package implementation.\n",
    "\n",
    "\n",
    "\n",
    "\n"
   ]
  },
  {
   "cell_type": "code",
   "execution_count": 65,
   "metadata": {},
   "outputs": [
    {
     "name": "stdout",
     "output_type": "stream",
     "text": [
      "Accuracy after grid search for selected features: 0.810250817884\n"
     ]
    }
   ],
   "source": [
    "from sklearn.ensemble import RandomForestClassifier\n",
    "from sklearn import tree\n",
    "parameters = {'max_depth':[5, 25]}\n",
    "clf_rf = RandomForestClassifier(random_state=0)\n",
    "clf = GridSearchCV(clf_rf, parameters)\n",
    "clf.fit(X_train, Y_train)\n",
    "Y_pred=clf.predict(X_test)\n",
    "accuracy=clf.score(X_test,Y_test)\n",
    "print(\"Accuracy after grid search for selected features:\",accuracy)\n"
   ]
  },
  {
   "cell_type": "markdown",
   "metadata": {},
   "source": [
    "### Feature Importances\n",
    "\n",
    "The Random forest implementation of the sklearn package gives us the importance of every feature. Feature importance is decided by the distance that a test point must travel before a decision is made. Lesser the depth, more the feature importance. Hence, this helps us to decide which feature split helps in best distinguishing the genres. \n",
    "\n",
    "\n"
   ]
  },
  {
   "cell_type": "code",
   "execution_count": 36,
   "metadata": {},
   "outputs": [
    {
     "name": "stdout",
     "output_type": "stream",
     "text": [
      "          Feature Names  Importance\n",
      "0          acousticness    0.047358\n",
      "1          danceability    0.018278\n",
      "2           duration_ms    0.025209\n",
      "3                energy    0.028224\n",
      "4      instrumentalness    0.044775\n",
      "5              keytrack    0.008273\n",
      "6              liveness    0.014974\n",
      "7         loudnesstrack    0.026278\n",
      "8             modetrack    0.002536\n",
      "9           speechiness    0.020282\n",
      "10           tempotrack    0.015506\n",
      "11  time_signaturetrack    0.003053\n",
      "12              valence    0.031949\n",
      "13          avg_timbre1    0.095469\n",
      "14          avg_timbre2    0.052063\n",
      "15          avg_timbre3    0.022040\n",
      "16          avg_timbre4    0.031406\n",
      "17          avg_timbre5    0.030488\n",
      "18          avg_timbre6    0.024406\n",
      "19          avg_timbre7    0.021630\n",
      "20          avg_timbre8    0.020562\n",
      "21          avg_timbre9    0.019091\n",
      "22         avg_timbre10    0.025504\n",
      "23         avg_timbre11    0.017970\n",
      "24         avg_timbre12    0.022149\n",
      "25          var_timbre1    0.043077\n",
      "26          var_timbre2    0.076291\n",
      "27          var_timbre3    0.024524\n",
      "28          var_timbre4    0.018186\n",
      "29          var_timbre5    0.024631\n",
      "30          var_timbre6    0.017541\n",
      "31          var_timbre7    0.022028\n",
      "32          var_timbre8    0.018139\n",
      "33          var_timbre9    0.017460\n",
      "34         var_timbre10    0.022211\n",
      "35         var_timbre11    0.020001\n",
      "36         var_timbre12    0.026435\n"
     ]
    }
   ],
   "source": [
    "#extracting importance of features \n",
    "temp=[]\n",
    "for i in range(len(features_x.columns)):  \n",
    "    temp.append((features_x.columns[i],clf.feature_importances_[i]))\n",
    "    \n",
    "df = pd.DataFrame(temp,columns=['Feature Names','Importance'])\n",
    "print(df)"
   ]
  },
  {
   "cell_type": "code",
   "execution_count": 37,
   "metadata": {},
   "outputs": [
    {
     "data": {
      "image/png": "[encoded data removed]",
      "text/plain": [
       "<matplotlib.figure.Figure at 0x18fce08cd68>"
      ]
     },
     "metadata": {},
     "output_type": "display_data"
    }
   ],
   "source": [
    "importance_f = clf.feature_importances_\n",
    "indices = np.argsort(importance_f)[::-1]\n",
    "\n",
    "plt.figure(figsize=(10,8))\n",
    "plt.bar(range(X_train.shape[1]), importance_f[indices],\n",
    "    color=\"g\", \n",
    "    align=\"center\")\n",
    "feature_names = features_x.columns \n",
    "plt.xticks(range(X_train.shape[1]), feature_names,rotation=90)\n",
    "plt.title(\"Feature Importance Graph\")\n",
    "plt.ylabel(\"importance\")\n",
    "plt.xlabel(\"feature name\")\n",
    "plt.show()"
   ]
  },
  {
   "cell_type": "markdown",
   "metadata": {},
   "source": [
    "## Stochastic Gradient Descent \n",
    "Since a standard SVM model will not be able to perform a multi-class classification on our data without a kernel. We decided to use the Stochastic Gradient Descent with a `hinge loss` to model the data like how we would using an SVM classifier with a kernel. We used the SKLearn Stochastic Gradient Descent and obtained a 74% accuracy on the test data. The confusion matrix as expected was not able to classify the `folk` and `punk` genres too well.\n"
   ]
  },
  {
   "cell_type": "code",
   "execution_count": 48,
   "metadata": {},
   "outputs": [],
   "source": [
    "from sklearn.linear_model import SGDClassifier\n",
    "clf = SGDClassifier(loss=\"hinge\", penalty=\"l2\",alpha=0.001, max_iter=100)\n",
    "clf.fit(X_train_std, Y_train_std) \n",
    "Y_pred=clf.predict(X_test_std)"
   ]
  },
  {
   "cell_type": "code",
   "execution_count": 49,
   "metadata": {},
   "outputs": [
    {
     "name": "stdout",
     "output_type": "stream",
     "text": [
      "0.742202835333\n"
     ]
    }
   ],
   "source": [
    "accuracy=clf.score(X_test_std,Y_test_std)\n",
    "print(accuracy)"
   ]
  },
  {
   "cell_type": "code",
   "execution_count": 37,
   "metadata": {},
   "outputs": [
    {
     "data": {
      "image/png": "[encoded data removed]",
      "text/plain": [
       "<matplotlib.figure.Figure at 0x1a0fc567b8>"
      ]
     },
     "metadata": {},
     "output_type": "display_data"
    }
   ],
   "source": [
    "plt.figure(num=None, figsize=(12, 5), dpi=80, facecolor='w', edgecolor='k')\n",
    "cm = confusion_matrix(Y_test_std,Y_pred, labels=[0,1,2,3,4,5])\n",
    "df_cm = pd.DataFrame(cm, index=list(le.inverse_transform([0,1,2,3,4,5])), columns=list(le.inverse_transform([0,1,2,3,4,5])))\n",
    "ax = sns.heatmap(df_cm,annot = True, cmap=\"YlGnBu\", fmt=\"d\")\n",
    "ax.set_title('Heatmap of the confusion matrix of the actual labels vs the predicted labels\\n')\n",
    "plt.show()"
   ]
  },
  {
   "cell_type": "markdown",
   "metadata": {},
   "source": [
    "### Model Comparison\n",
    "We have used accuracy as our metric to observe model performance. After running the above models, we get:\n",
    "\n",
    "| Classifier | Accuracy Rates |\n",
    "| --- | --- | --- |\n",
    "|KNN|81.2 %|  \n",
    "|Random Forest (custom)| 76.281 %|\n",
    "|Random Forest (sklearn)|81.02 %|\n",
    "|stochastic gradient descent |74.2% |\n"
   ]
  },
  {
   "cell_type": "markdown",
   "metadata": {},
   "source": [
    "### Conclusion:\n",
    "\n",
    "The table above shows the accuracy rates that we obtained from each of the models that were used for classification of music genre. We observe that KNN and Random Forest gives us the best accuracies. Random Forest inherently features selects and builds a classifier based on several decision trees thus improving prediction accuracy. \n",
    "\n",
    "Independent decisions are made across each decision tree in the random forest which helps bring down possible variance in the model.Given that this is a multi-class multi-label problem, we observe that Random Forest is able to distinguish between possibly overlapping genres and make predictions for the tracks with reasonable accuracy. Therefore, the random forest is a good estimator in the genre classification process. \n",
    "\n",
    "KNN is nonparametric and hence does not have assumptions about the underlying distribution. KNN is modelled on a distance metric. This is particularly useful in this case, as we have used numerical data features. The distance metric groups together points that are dimensionally closer into the same class. Thus, this gives us a good prediction basis.  \n",
    "\n",
    "#### Next Steps\n",
    "Further steps from here on would involve adding in more genres to the classification set and attempting to find a model that can deal with the inherent genre features overlap. We would also attempt to tackle the multi label problem as an extension. \n",
    "\n",
    "### Resources\n",
    "\n",
    "There are several organisations that have great music libraries with an assortment of features. They could be a good place to start understanding how music data helped. Our resources:\n",
    "\n",
    "4M. Defferrardy, K. Benziy, P. Vandergheynsty, X. Bressonz, FMA: A DATASET FOR\n",
    "MUSIC ANALYSIS, EPFL, Switzerland zSCSE, NTU, Singapore\n",
    "\n",
    "H. Michael, H.Yang, K.Kenny Music Genre Classification -\n",
    "CS229 - cs229.stanford.edu @article chen_gao_zhu_\n",
    "\n"
   ]
  }
 ],
 "metadata": {
  "kernelspec": {
   "display_name": "Python 3",
   "language": "python",
   "name": "python3"
  },
  "language_info": {
   "codemirror_mode": {
    "name": "ipython",
    "version": 3
   },
   "file_extension": ".py",
   "mimetype": "text/x-python",
   "name": "python",
   "nbconvert_exporter": "python",
   "pygments_lexer": "ipython3",
   "version": "3.8.3"
  }
 },
 "nbformat": 4,
 "nbformat_minor": 2
}
